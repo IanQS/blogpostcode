{
 "cells": [
  {
   "cell_type": "markdown",
   "metadata": {},
   "source": [
    "# Setup\n",
    "\n",
    "- Contains setup functions (inherited from data_exploration.ipynb)"
   ]
  },
  {
   "cell_type": "code",
   "execution_count": null,
   "metadata": {},
   "outputs": [],
   "source": [
    "def proto_wrap(feature_proto):\n",
    "    features = feature_proto.dataset_parsing()\n",
    "    def unpack(example_proto):\n",
    "        parsed_features = tf.parse_single_example(example_proto, features)\n",
    "        labels = parsed_features['Cover_Type']\n",
    "        parsed_features.pop('Cover_Type')\n",
    "        # Then, convert the dataset into tensors which tensorflow expects?\n",
    "        parsed_features['Soil_Type'] = tf.convert_to_tensor(parsed_features['Soil_Type'])\n",
    "        parsed_features['Wilderness_Area'] = tf.cast(tf.argmax(parsed_features['Wilderness_Area'], axis=0), dtype=tf.float32)\n",
    "        labels = tf.one_hot(tf.cast(labels, dtype=tf.uint8), 8, on_value=1, off_value=0, axis=-1)\n",
    "\n",
    "        return parsed_features, labels\n",
    "    return unpack\n",
    " \n",
    "\n",
    "\n",
    "def dataset_config(filenames: list, mapper=None, repeat=False, batch_size=32,\n",
    "                  initializable=False, sess=None, feed_dict=None, num_cpus=None):\n",
    "    dataset = tf.data.TFRecordDataset(filenames)\n",
    "    \n",
    "    if mapper is not None:\n",
    "        dataset = dataset.map(mapper, num_parallel_calls=num_cpus)\n",
    "        \n",
    "    if repeat:\n",
    "        dataset = dataset.repeat()\n",
    "        \n",
    "    dataset = dataset.batch(batch_size)\n",
    "    dataset = dataset.prefetch(buffer_size=batch_size)\n",
    "    \n",
    "    if initializable:\n",
    "        \"\"\"\n",
    "        An initializable iterator requires you to run an explicit iterator.initializer operation before using it. \n",
    "        In exchange for this inconvenience, it enables you to parameterize the definition of the dataset, \n",
    "        using one or more tf.placeholder() tensors that can be fed when you initialize the iterator\n",
    "        \"\"\"\n",
    "        # Creates an Iterator for enumerating the elements of this dataset\n",
    "        if sess is None:\n",
    "            raise Exception('Initializable dataset configuration specified but session not supplied')\n",
    "        iterator = dataset.make_initializable_iterator()\n",
    "    else:\n",
    "        \"\"\"\n",
    "        A one-shot iterator is the simplest form of iterator, which only supports iterating once through a dataset, \n",
    "        with no need for explicit initialization. One-shot iterators handle almost all of the cases that the existing \n",
    "        queue-based input pipelines support, but they do not support parameterization\n",
    "        \"\"\"\n",
    "        iterator = dataset.make_one_shot_iterator()\n",
    "        \n",
    "    if initializable:\n",
    "        assert feed_dict is not None, 'Supply feed dict to initializable iterator'\n",
    "        sess.run(iterator.initializer, feed_dict=feed_dict)\n",
    "    \n",
    "    next_element = iterator.get_next()\n",
    "    return next_element"
   ]
  },
  {
   "cell_type": "code",
   "execution_count": null,
   "metadata": {},
   "outputs": [],
   "source": [
    "filename_list = []\n",
    "for dirname, dirnames, filenames in os.walk('processed_data/'):\n",
    "    # print path to all subdirectories first.\n",
    "    for f in filenames:\n",
    "        filename_list.append('{}{}'.format(dirname, f))\n",
    "print(filename_list)\n",
    "dataset = tf.data.TFRecordDataset(filename_list)\n",
    "\n",
    "num_cpus = os.cpu_count()\n",
    "contextual_unpacker = proto_wrap(feature_proto)\n",
    "training_dataset_next = dataset_config(filename_list, mapper=contextual_unpacker, num_cpus=num_cpus)"
   ]
  },
  {
   "cell_type": "markdown",
   "metadata": {},
   "source": [
    "# Actual Code"
   ]
  },
  {
   "cell_type": "code",
   "execution_count": null,
   "metadata": {},
   "outputs": [],
   "source": [
    "dense_tensor = input_layer(features, columns)\n",
    "for units in [256, 16, 8]:\n",
    "    dense_tensor = tf.layers.dense(dense_tensor, units, tf.nn.relu)\n",
    "prediction = tf.layers.dense(dense_tensor, 1, tf.nn.softmax)"
   ]
  }
 ],
 "metadata": {
  "kernelspec": {
   "display_name": "Python 3",
   "language": "python",
   "name": "python3"
  },
  "language_info": {
   "codemirror_mode": {
    "name": "ipython",
    "version": 3
   },
   "file_extension": ".py",
   "mimetype": "text/x-python",
   "name": "python",
   "nbconvert_exporter": "python",
   "pygments_lexer": "ipython3",
   "version": "3.6.7"
  }
 },
 "nbformat": 4,
 "nbformat_minor": 2
}
