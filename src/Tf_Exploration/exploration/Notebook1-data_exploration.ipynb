{
 "cells": [
  {
   "cell_type": "markdown",
   "metadata": {},
   "source": [
    "The code is accompanied by my blogpost where I go into more detail about the decisions I've made, and whatever notes I may make\n",
    "\n",
    "The link to the [blogpost](https://ianqs.github.io/blog/2019/01/05/TF-dataset-madness)\n",
    "\n",
    "The dataset is from [UCI Covertype dataset](https://archive.ics.uci.edu/ml/datasets/covertype)"
   ]
  },
  {
   "cell_type": "code",
   "execution_count": 1,
   "metadata": {},
   "outputs": [],
   "source": [
    "%load_ext autoreload\n",
    "%autoreload 2"
   ]
  },
  {
   "cell_type": "code",
   "execution_count": 2,
   "metadata": {},
   "outputs": [
    {
     "name": "stdout",
     "output_type": "stream",
     "text": [
      "1.12.0\n"
     ]
    }
   ],
   "source": [
    "import tensorflow as tf\n",
    "print(tf.__version__)\n",
    "\n",
    "#tf.enable_eager_execution()\n",
    "import numpy as np\n",
    "import os\n",
    "import datetime\n",
    "import tqdm\n",
    "import sys\n",
    "import pprint\n",
    "import glob"
   ]
  },
  {
   "cell_type": "markdown",
   "metadata": {},
   "source": [
    "# 1) Training Pipeline\n",
    "\n",
    "## 1.1) Producer:\n",
    "\n",
    "- Ideally takes arbitrary datasets (np, csv, .data)\n",
    "\n",
    "- $\\lambda$: (x) -> `tf.TfRecords`\n",
    "\n",
    "- loads from `unprocessed_data` folder in this tutorial and writes to `processed_data` folder \n",
    "\n",
    "## 1.2) Provider:\n",
    "\n",
    "- loads from `processed_data` folder \n",
    "\n",
    "- processes the data (so that the processing is part of the computation graph)\n",
    "\n",
    "- loads `tf.TfRecords` and sends it directly to tensorflow. Avoids `feed_dict` which is [slow](https://www.tensorflow.org/guide/performance/overview#input_pipeline)"
   ]
  },
  {
   "cell_type": "markdown",
   "metadata": {},
   "source": [
    "# Producer:\n",
    "\n",
    "## Method 1\n",
    "\n",
    "1: Load the data\n",
    "\n",
    "2: Conversion of a row of data into formats compatible with tf\n",
    "\n",
    "3: Save it as a tfRecords file\n",
    "\n",
    "## Method 2 (not shown here)\n",
    "\n",
    "You can load it in as a tf.data.Dataset, then use the `experimental` library to construct a tfRecords file. A good resource for this is [official docs](https://www.tensorflow.org/tutorials/load_data/tf-records#tfexample)\n",
    "\n",
    "\n",
    "```\n",
    "serialized_features_dataset = features_dataset.map(tf_serialize_example)\n",
    "writer = tf.data.experimental.TFRecordWriter(filename)\n",
    "writer.write(serialized_features_dataset)\n",
    "```\n"
   ]
  },
  {
   "cell_type": "markdown",
   "metadata": {},
   "source": [
    "# Dataset Information\n",
    "\n",
    "    Elevation                               quantitative    meters                       Elevation in meters\n",
    "    \n",
    "    Aspect                                  quantitative    azimuth                      Aspect in degrees azimuth\n",
    "    \n",
    "    Slope                                   quantitative    degrees                      Slope in degrees\n",
    "    \n",
    "    Horizontal_Distance_To_Hydrology        quantitative    meters                       Horz Dist to nearest surface water features\n",
    "    \n",
    "    Vertical_Distance_To_Hydrology          quantitative    meters                       Vert Dist to nearest surface water features\n",
    "    \n",
    "    Horizontal_Distance_To_Roadways         quantitative    meters                       Horz Dist to nearest roadway\n",
    "    \n",
    "    Hillshade_9am                           quantitative    0 to 255 index               Hillshade index at 9am, summer solstice\n",
    "    \n",
    "    Hillshade_Noon                          quantitative    0 to 255 index               Hillshade index at noon, summer soltice\n",
    "    \n",
    "    Hillshade_3pm                           quantitative    0 to 255 index               Hillshade index at 3pm, summer solstice\n",
    "    \n",
    "    Horizontal_Distance_To_Fire_Points      quantitative    meters                       Horz Dist to nearest wildfire ignition points\n",
    "    \n",
    "    Wilderness_Area (4 binary columns)      qualitative     0 (absence) or 1 (presence)  Wilderness area designation\n",
    "    \n",
    "    Soil_Type (40 binary columns)           qualitative     0 (absence) or 1 (presence)  Soil Type designation\n",
    "    \n",
    "    Cover_Type (7 types)                    integer         1 to 7                       Forest Cover Type designation\n",
    "    "
   ]
  },
  {
   "cell_type": "markdown",
   "metadata": {},
   "source": [
    "# Producer Pipeline: "
   ]
  },
  {
   "cell_type": "code",
   "execution_count": 3,
   "metadata": {},
   "outputs": [],
   "source": [
    "def _bytes_feature(value):\n",
    "    \"\"\"Returns a bytes_list from a string / byte.\"\"\"\n",
    "    return tf.train.Feature(bytes_list=tf.train.BytesList(value=value))\n",
    "\n",
    "\n",
    "def _float_feature(value):\n",
    "    \"\"\"Returns a float_list from a float / double.\"\"\"\n",
    "    return tf.train.Feature(float_list=tf.train.FloatList(value=value))\n",
    "\n",
    "\n",
    "def _int64_feature(value):\n",
    "    \"\"\"Returns an int64_list from a bool / enum / int / uint.\"\"\"\n",
    "    return tf.train.Feature(int64_list=tf.train.Int64List(value=value))\n",
    "\n",
    "# Prototype class - enables easier feature definition and better for refactoring\n",
    "\n",
    "class FeatureProto(object):\n",
    "    from collections import namedtuple\n",
    "    import numpy as np\n",
    "    \n",
    "    proto = namedtuple('prototype', ['name', 'dtype', 'shape'])\n",
    "    \n",
    "    # Reading the data\n",
    "    features = [\n",
    "        proto(name='Elevation', dtype=tf.float32, shape=1),\n",
    "        proto(name='Aspect', dtype=tf.float32, shape=1),\n",
    "        proto(name='Slope', dtype=tf.float32, shape=1),\n",
    "        proto(name='Horizontal_Distance_To_Hydrology', dtype=tf.float32, shape=1),\n",
    "        proto(name='Vertical_Distance_To_Hydrology', dtype=tf.float32, shape=1),\n",
    "        proto(name='Horizontal_Distance_To_Roadways', dtype=tf.float32, shape=1),\n",
    "        proto(name='Hillshade_9am', dtype=tf.float32, shape=1),\n",
    "        proto(name='Hillshade_Noon', dtype=tf.float32, shape=1),\n",
    "        proto(name='Hillshade_3pm', dtype=tf.float32, shape=1),\n",
    "        proto(name='Horizontal_Distance_To_Fire_Points', dtype=tf.float32, shape=1),\n",
    "        proto(name='Wilderness_Area', dtype=tf.float32, shape=4),\n",
    "        proto(name='Soil_Type', dtype=tf.float32, shape=40),\n",
    "        proto(name='Cover_Type', dtype=tf.float32, shape=1),\n",
    "    ]\n",
    "    \n",
    "    @property\n",
    "    def size(self):\n",
    "        size = 0\n",
    "        for prototype in self.features:\n",
    "            size += prototype.shape\n",
    "        return size\n",
    "    \n",
    "    def dataset_creation(self, data):\n",
    "        idx = 0\n",
    "        collection = {}\n",
    "        for prototype in self.features:\n",
    "            datum = [data[idx]] if prototype.shape == 1 else data[idx:idx + prototype.shape]\n",
    "            encoded_feature = self._generate_feature(\n",
    "                prototype.dtype, datum, idx\n",
    "            )\n",
    "            collection[prototype.name] = encoded_feature\n",
    "            idx += prototype.shape\n",
    "        return collection\n",
    "    \n",
    "    def _generate_feature(self, dtype, data, idx):\n",
    "        if dtype == tf.float16 or dtype == tf.float32 or dtype == tf.float64:\n",
    "            encoded_feature = _float_feature(data)\n",
    "        elif dtype == tf.int16 or dtype == tf.int32 or dtype == tf.int64:\n",
    "            encoded_feature = _int64_feature(data)\n",
    "        elif dtype == tf.string:\n",
    "            encoded_feature = _bytes_feature(data)\n",
    "        else:\n",
    "            raise NotImplementedError('Unmated type while generating feature in FeatureProto')\n",
    "        return encoded_feature\n",
    "    \n",
    "    def unpack(self, example_proto):\n",
    "        features = self._dataset_parsing()\n",
    "        parsed_features = tf.parse_single_example(example_proto, features)\n",
    "        labels = parsed_features['Cover_Type']\n",
    "        parsed_features.pop('Cover_Type')\n",
    "        # Then, convert the dataset into tensors which tensorflow expects?\n",
    "        parsed_features['Soil_Type'] = tf.convert_to_tensor(parsed_features['Soil_Type'])\n",
    "        parsed_features['Wilderness_Area'] = tf.cast(tf.argmax(parsed_features['Wilderness_Area'], axis=0), dtype=tf.float32)\n",
    "        labels = tf.cast(labels, dtype=tf.int32)\n",
    "        #labels = tf.one_hot(tf.cast(labels, dtype=tf.uint8), 8, on_value=1, off_value=0, axis=-1)\n",
    "        return parsed_features, labels\n",
    "            \n",
    "        \n",
    "    def _dataset_parsing(self):\n",
    "        if hasattr(self, 'parser_proto'):\n",
    "            return self.parser_proto\n",
    "        else:\n",
    "            parser_proto = {}\n",
    "            for prototype in self.features:\n",
    "                feat_name = prototype.name\n",
    "                dtype = prototype.dtype\n",
    "                shape = prototype.shape\n",
    "                parser_proto[feat_name] = tf.FixedLenFeature(() if shape == 1 else (shape), dtype)\n",
    "            self.parser_proto = parser_proto\n",
    "            return self.parser_proto\n",
    "\n",
    "\n",
    "feature_proto = FeatureProto()"
   ]
  },
  {
   "cell_type": "code",
   "execution_count": 6,
   "metadata": {},
   "outputs": [
    {
     "name": "stdout",
     "output_type": "stream",
     "text": [
      "(581012, 55)\n"
     ]
    }
   ],
   "source": [
    "def load_data():\n",
    "    loaded = np.loadtxt('unprocessed_data/covtype.data', delimiter=',', dtype=np.int)  # Avoid tf.contrib since we want to get our hands dirty\n",
    "    print(loaded.shape)\n",
    "    all_ind = np.arange(0, len(loaded))\n",
    "    train_ind = all_ind[: int(len(loaded) * 0.8)]\n",
    "    test_ind = all_ind[int(len(loaded) * 0.8): ]\n",
    "    \n",
    "    return loaded, all_ind, train_ind, test_ind\n",
    "\n",
    "\n",
    "load_data_run = False\n",
    "if load_data_run:\n",
    "    loaded, all_ind, train_ind, test_ind = load_data()\n",
    "else:\n",
    "    print('Flip load_data_run load in data from unprocessed_data folder')"
   ]
  },
  {
   "cell_type": "code",
   "execution_count": 10,
   "metadata": {},
   "outputs": [
    {
     "name": "stderr",
     "output_type": "stream",
     "text": [
      "\r",
      "  0%|          | 0/4 [00:00<?, ?it/s]"
     ]
    },
    {
     "data": {
      "application/vnd.jupyter.widget-view+json": {
       "model_id": "cc1ded57b61541ae8cbff03df15d80bf",
       "version_major": 2,
       "version_minor": 0
      },
      "text/plain": [
       "HBox(children=(IntProgress(value=0, max=100000), HTML(value='')))"
      ]
     },
     "metadata": {},
     "output_type": "display_data"
    },
    {
     "name": "stderr",
     "output_type": "stream",
     "text": [
      "\r",
      " 25%|██▌       | 1/4 [00:10<00:31, 10.56s/it]"
     ]
    },
    {
     "name": "stdout",
     "output_type": "stream",
     "text": [
      "\n"
     ]
    },
    {
     "data": {
      "application/vnd.jupyter.widget-view+json": {
       "model_id": "f916bfb208d545729eb6578d24e125dc",
       "version_major": 2,
       "version_minor": 0
      },
      "text/plain": [
       "HBox(children=(IntProgress(value=0, max=100000), HTML(value='')))"
      ]
     },
     "metadata": {},
     "output_type": "display_data"
    },
    {
     "name": "stderr",
     "output_type": "stream",
     "text": [
      "\r",
      " 50%|█████     | 2/4 [00:21<00:21, 10.56s/it]"
     ]
    },
    {
     "name": "stdout",
     "output_type": "stream",
     "text": [
      "\n"
     ]
    },
    {
     "data": {
      "application/vnd.jupyter.widget-view+json": {
       "model_id": "8fff15551dd14b8eac57dc1fa1a87f44",
       "version_major": 2,
       "version_minor": 0
      },
      "text/plain": [
       "HBox(children=(IntProgress(value=0, max=100000), HTML(value='')))"
      ]
     },
     "metadata": {},
     "output_type": "display_data"
    },
    {
     "name": "stderr",
     "output_type": "stream",
     "text": [
      "\r",
      " 75%|███████▌  | 3/4 [00:31<00:10, 10.55s/it]"
     ]
    },
    {
     "name": "stdout",
     "output_type": "stream",
     "text": [
      "\n"
     ]
    },
    {
     "data": {
      "application/vnd.jupyter.widget-view+json": {
       "model_id": "7445ab97f7c045db8981c9e403ce7214",
       "version_major": 2,
       "version_minor": 0
      },
      "text/plain": [
       "HBox(children=(IntProgress(value=0, max=100000), HTML(value='')))"
      ]
     },
     "metadata": {},
     "output_type": "display_data"
    },
    {
     "name": "stderr",
     "output_type": "stream",
     "text": [
      "\r",
      "100%|██████████| 4/4 [00:42<00:00, 10.57s/it]"
     ]
    },
    {
     "name": "stdout",
     "output_type": "stream",
     "text": [
      "\n"
     ]
    },
    {
     "name": "stderr",
     "output_type": "stream",
     "text": [
      "\n"
     ]
    },
    {
     "data": {
      "application/vnd.jupyter.widget-view+json": {
       "model_id": "de4d3e6278844819b86b7f8cb33f9455",
       "version_major": 2,
       "version_minor": 0
      },
      "text/plain": [
       "HBox(children=(IntProgress(value=0, max=64809), HTML(value='')))"
      ]
     },
     "metadata": {},
     "output_type": "display_data"
    },
    {
     "name": "stdout",
     "output_type": "stream",
     "text": [
      "\n"
     ]
    },
    {
     "data": {
      "application/vnd.jupyter.widget-view+json": {
       "model_id": "2bde779f41ee4d3e8891459638898b2f",
       "version_major": 2,
       "version_minor": 0
      },
      "text/plain": [
       "HBox(children=(IntProgress(value=0, max=116203), HTML(value='')))"
      ]
     },
     "metadata": {},
     "output_type": "display_data"
    },
    {
     "name": "stdout",
     "output_type": "stream",
     "text": [
      "\n"
     ]
    }
   ],
   "source": [
    "def write(filename, indices):\n",
    "  # Round to the previous hour\n",
    "    with tf.python_io.TFRecordWriter(filename) as writer:\n",
    "        for i in tqdm.tqdm_notebook(indices):\n",
    "            datum = loaded[i, :]\n",
    "            feature = feature_proto.dataset_creation(datum)\n",
    "            example_proto = tf.train.Example(features=tf.train.Features(feature=feature))\n",
    "            writer.write(example_proto.SerializeToString())\n",
    "\n",
    "def generate_samples(feature_proto, record_size=100000):\n",
    "    try:\n",
    "        os.mkdir('processed_data')\n",
    "    except:\n",
    "        pass\n",
    "    \n",
    "    time = str(datetime.datetime.now().replace(microsecond=0,second=0,minute=0)).replace(' ', '_')\n",
    "    for record_info in [('train', train_ind), ('test', test_ind)]:\n",
    "        \n",
    "        if record_info[0] == 'test':\n",
    "            filename = 'processed_data/covtype_test_{}.tfrecord'.format(time)\n",
    "            write(filename, record_info[1])\n",
    "        else:  # Training data\n",
    "            for i in tqdm.tqdm(range((len(record_info[1]) // record_size))):\n",
    "                filename = 'processed_data/covtype_train_{}_{}.tfrecord'.format(i, time)\n",
    "                start = i * record_size\n",
    "                end = (i + 1) * record_size\n",
    "                write(filename, indices=record_info[1][start:end])\n",
    "            write(filename, indices=record_info[1][end:])\n",
    "    # using your storage system -S3 or some other file hosting service\n",
    "    # add the export here\n",
    "        \n",
    "generate_run = True\n",
    "\n",
    "if generate_run:\n",
    "    generate_samples(feature_proto)\n",
    "else:\n",
    "    print('Flip generate_run to generate_samples')"
   ]
  },
  {
   "cell_type": "markdown",
   "metadata": {},
   "source": [
    "# Provider\n",
    "\n",
    "Cell 1: Initialize the loader\n",
    "\n",
    "- even though there is the train, and test data in the tfRecordDataset, we pretend that they're two different runs of our pre-processor\n",
    "\n",
    "- The proto_wrap function is unnecessary here but for the sake of clarity I left it in. In the next tutorial, where I show you how to use the loaded data, we will remove it\n",
    "\n",
    "Cell 2: Provide\n",
    "\n",
    "- return an iterator that you can go through to iterate your dataset using either 1) stored tfrecords, or via tf.data.Datasets on numpy/ csvs\n",
    "\n",
    "Cell 3: Iteration"
   ]
  },
  {
   "cell_type": "code",
   "execution_count": 11,
   "metadata": {},
   "outputs": [],
   "source": [
    "from typing import Tuple\n",
    "\n",
    "def dataset_config(repeat=False, batch_size=32, num_cpus=None,\n",
    "                   # Used in tfRecordDatasets\n",
    "                   filenames: list=None, mapper=None, \n",
    "                   # Used in from_tensor_slices\n",
    "                  initializable:Tuple=False, sess=None, feed_dict=None):\n",
    "    \"\"\"\n",
    "    Supports 2 modes: from tensor_slices OR from tfRecordDatasets\n",
    "    \"\"\"\n",
    "    tf_record = mapper is not None and filenames is not None\n",
    "    tensor_slices = initializable is not None and sess is not None and feed_dict is not None\n",
    "    \n",
    "    if tf_record:\n",
    "        dataset = tf.data.TFRecordDataset(filenames)\n",
    "        dataset = dataset.map(mapper, num_parallel_calls=num_cpus)\n",
    "    elif tensor_slices:\n",
    "        assert initializable != False, 'initializable should be an iterable with placeholders'\n",
    "        dataset = tf.data.Dataset.from_tensor_slices(initializable)\n",
    "    else:\n",
    "        raise ValueError('If loading from tfRecordDatasets fill in filenames and mapper. '\n",
    "                        'If using from_tensor_slices feed in a initializable(placeholder iterable), session, and feed_dict')\n",
    "        \n",
    "    if repeat:\n",
    "        dataset = dataset.repeat()\n",
    "        \n",
    "    dataset = dataset.batch(batch_size)\n",
    "    dataset = dataset.prefetch(buffer_size=batch_size)\n",
    "    \n",
    "    if tensor_slices:\n",
    "        iterator = dataset.make_initializable_iterator()\n",
    "        sess.run(iterator.initializer, feed_dict=feed_dict)\n",
    "    else:\n",
    "        iterator = dataset.make_one_shot_iterator()\n",
    "    \n",
    "    next_element = iterator.get_next()\n",
    "    return next_element"
   ]
  },
  {
   "cell_type": "code",
   "execution_count": 12,
   "metadata": {},
   "outputs": [
    {
     "name": "stdout",
     "output_type": "stream",
     "text": [
      "['processed_data/covtype_train_3_2019-01-06_01:00:00.tfrecord', 'processed_data/covtype_train_1_2019-01-06_01:00:00.tfrecord', 'processed_data/covtype_train_0_2019-01-06_01:00:00.tfrecord', 'processed_data/covtype_train_2_2019-01-06_01:00:00.tfrecord']\n"
     ]
    }
   ],
   "source": [
    "configuration = 'tf'  # Options: tf, csv, np\n",
    "\n",
    "# Option 1: reading tf.data.TFRecordDataset\n",
    "#     - requires that you generate it first\n",
    "if configuration == 'tf':\n",
    "    filename_list = []\n",
    "    for root, dirs, files in os.walk('processed_data/'):\n",
    "        for f in files:\n",
    "            if \"tfrecord\" in f and \"train\" in f:\n",
    "                filename_list.append(os.path.join(root, f))\n",
    "    print(filename_list)\n",
    "    dataset = tf.data.TFRecordDataset(filename_list)\n",
    "    num_cpus = os.cpu_count()\n",
    "    training_dataset_next = dataset_config(filenames=filename_list, mapper=feature_proto.unpack, num_cpus=num_cpus)\n",
    "\n",
    "    \n",
    "# Note, \n",
    "# Option 2: reading as a CSV\n",
    "elif configuration == 'csv':\n",
    "    filename_queue = tf.train.string_input_producer(['unprocessed_data/covtype.csv'])\n",
    "    reader = tf.TextLineReader()\n",
    "    k, v = reader.read(filename_queue)\n",
    "    \n",
    "    record_defaults = [[0] for _ in range(feature_proto.size)]\n",
    "    \n",
    "    columns = tf.decode_csv(v, record_defaults=record_defaults)\n",
    "    \"\"\" FILL IN \"\"\"\n",
    "    \n",
    "\n",
    "# Option 3: Reading Np. Note that there is a 2GB limit and you should avoid this\n",
    "else:\n",
    "    with np.load('unprocessed_data/covtype.npy') as data:\n",
    "        features = data[\"features\"]\n",
    "        labels = data[\"labels\"]\n",
    "        \n",
    "        \n",
    "        features_placeholder = tf.placeholder(features.dtype, features.shape)\n",
    "        labels_placeholder = tf.placeholder(labels.dtype, labels.shape)\n",
    "\n",
    "        \n",
    "        training_dataset_next = dataset_config()"
   ]
  },
  {
   "cell_type": "code",
   "execution_count": 13,
   "metadata": {},
   "outputs": [
    {
     "name": "stdout",
     "output_type": "stream",
     "text": [
      "dict_keys(['Aspect', 'Elevation', 'Hillshade_3pm', 'Hillshade_9am', 'Hillshade_Noon', 'Horizontal_Distance_To_Fire_Points', 'Horizontal_Distance_To_Hydrology', 'Horizontal_Distance_To_Roadways', 'Slope', 'Soil_Type', 'Vertical_Distance_To_Hydrology', 'Wilderness_Area'])\n",
      "dict_keys(['Aspect', 'Elevation', 'Hillshade_3pm', 'Hillshade_9am', 'Hillshade_Noon', 'Horizontal_Distance_To_Fire_Points', 'Horizontal_Distance_To_Hydrology', 'Horizontal_Distance_To_Roadways', 'Slope', 'Soil_Type', 'Vertical_Distance_To_Hydrology', 'Wilderness_Area'])\n"
     ]
    }
   ],
   "source": [
    "# Lazy execution\n",
    "\n",
    "init = tf.global_variables_initializer()\n",
    "with tf.Session() as sess:\n",
    "    sess.run(init)\n",
    "    for i in range(2):\n",
    "        features, label = sess.run(training_dataset_next)\n",
    "        pprint.pprint(features.keys())\n",
    "    \n",
    "# Eager execution\n",
    "#features, label = training_dataset_next"
   ]
  },
  {
   "cell_type": "markdown",
   "metadata": {},
   "source": [
    "# Done! \n",
    "\n",
    "And with that, we're done! We've \n",
    "\n",
    "1) taken a non-trivial dataset, \n",
    "2) converted it into a `tfRecord`\n",
    "3) shown how to unload it and read from it"
   ]
  },
  {
   "cell_type": "code",
   "execution_count": null,
   "metadata": {},
   "outputs": [],
   "source": []
  }
 ],
 "metadata": {
  "kernelspec": {
   "display_name": "Python 3",
   "language": "python",
   "name": "python3"
  },
  "language_info": {
   "codemirror_mode": {
    "name": "ipython",
    "version": 3
   },
   "file_extension": ".py",
   "mimetype": "text/x-python",
   "name": "python",
   "nbconvert_exporter": "python",
   "pygments_lexer": "ipython3",
   "version": "3.6.7"
  }
 },
 "nbformat": 4,
 "nbformat_minor": 2
}
