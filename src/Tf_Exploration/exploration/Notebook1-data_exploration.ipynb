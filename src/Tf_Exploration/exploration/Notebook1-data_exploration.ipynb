{
 "cells": [
  {
   "cell_type": "markdown",
   "metadata": {},
   "source": [
    "The code is accompanied by my blogpost where I go into more detail about the decisions I've made, and whatever notes I may make\n",
    "\n",
    "The link to my notes, and introspections are here: [TODO]()"
   ]
  },
  {
   "cell_type": "code",
   "execution_count": 11,
   "metadata": {},
   "outputs": [
    {
     "name": "stdout",
     "output_type": "stream",
     "text": [
      "The autoreload extension is already loaded. To reload it, use:\n",
      "  %reload_ext autoreload\n"
     ]
    }
   ],
   "source": [
    "%load_ext autoreload\n",
    "%autoreload 2"
   ]
  },
  {
   "cell_type": "code",
   "execution_count": 13,
   "metadata": {},
   "outputs": [],
   "source": [
    "import tensorflow as tf\n",
    "\n",
    "tf.enable_eager_execution()\n",
    "import numpy as np\n",
    "import os\n",
    "import datetime\n",
    "import tqdm\n",
    "import sys\n",
    "import pprint"
   ]
  },
  {
   "cell_type": "markdown",
   "metadata": {},
   "source": [
    "# 1) Training Pipeline\n",
    "\n",
    "## 1.1) Producer:\n",
    "\n",
    "- takes `numpy` arrays or `CSVs`\n",
    "\n",
    "- $\\lambda$ `np.ndarray` -> `tf.TfRecords`\n",
    "\n",
    "- loads from `raw_data` folder in this tutorial and writes to `processed_data` folder \n",
    "\n",
    "## 1.2) Provider:\n",
    "\n",
    "- loads from `processed_data` folder \n",
    "\n",
    "- processes the data (so that the processing is part of the computation graph)\n",
    "\n",
    "- loads `tf.TfRecords` and sends it directly to tensorflow. Avoids `feed_dict` which is [reportedly slow](https://www.tensorflow.org/guide/performance/overview#input_pipeline)"
   ]
  },
  {
   "cell_type": "markdown",
   "metadata": {},
   "source": [
    "# Producer:\n",
    "\n",
    "## Method 1\n",
    "\n",
    "1: Load the numpy array\n",
    "\n",
    "2: Conversion of a row of data into formats compatible with tf\n",
    "\n",
    "3: Save it as a tfRecords file\n",
    "\n",
    "## Method 2 (not shown here)\n",
    "\n",
    "You can load it in as a tf.data.Dataset, then use the `experimenta` library to construct a tfRecords file. A good resource for this is [official docs](https://www.tensorflow.org/tutorials/load_data/tf-records#tfexample)\n",
    "\n",
    "\n",
    "```\n",
    "serialized_features_dataset = features_dataset.map(tf_serialize_example)\n",
    "writer = tf.data.experimental.TFRecordWriter(filename)\n",
    "writer.write(serialized_features_dataset)\n",
    "```\n"
   ]
  },
  {
   "cell_type": "markdown",
   "metadata": {},
   "source": [
    "# Dataset Information\n",
    "\n",
    "    Elevation                               quantitative    meters                       Elevation in meters\n",
    "    \n",
    "    Aspect                                  quantitative    azimuth                      Aspect in degrees azimuth\n",
    "    \n",
    "    Slope                                   quantitative    degrees                      Slope in degrees\n",
    "    \n",
    "    Horizontal_Distance_To_Hydrology        quantitative    meters                       Horz Dist to nearest surface water features\n",
    "    \n",
    "    Vertical_Distance_To_Hydrology          quantitative    meters                       Vert Dist to nearest surface water features\n",
    "    \n",
    "    Horizontal_Distance_To_Roadways         quantitative    meters                       Horz Dist to nearest roadway\n",
    "    \n",
    "    Hillshade_9am                           quantitative    0 to 255 index               Hillshade index at 9am, summer solstice\n",
    "    \n",
    "    Hillshade_Noon                          quantitative    0 to 255 index               Hillshade index at noon, summer soltice\n",
    "    \n",
    "    Hillshade_3pm                           quantitative    0 to 255 index               Hillshade index at 3pm, summer solstice\n",
    "    \n",
    "    Horizontal_Distance_To_Fire_Points      quantitative    meters                       Horz Dist to nearest wildfire ignition points\n",
    "    \n",
    "    Wilderness_Area (4 binary columns)      qualitative     0 (absence) or 1 (presence)  Wilderness area designation\n",
    "    \n",
    "    Soil_Type (40 binary columns)           qualitative     0 (absence) or 1 (presence)  Soil Type designation\n",
    "    \n",
    "    Cover_Type (7 types)                    integer         1 to 7                       Forest Cover Type designation\n",
    "    "
   ]
  },
  {
   "cell_type": "code",
   "execution_count": 14,
   "metadata": {},
   "outputs": [],
   "source": [
    "# Parse records\n",
    "\n",
    "def _bytes_feature(value):\n",
    "    \"\"\"Returns a bytes_list from a string / byte.\"\"\"\n",
    "    return tf.train.Feature(bytes_list=tf.train.BytesList(value=[value]))\n",
    "\n",
    "def _float_feature(value):\n",
    "    \"\"\"Returns a float_list from a float / double.\"\"\"\n",
    "    return tf.train.Feature(float_list=tf.train.FloatList(value=[value]))\n",
    "\n",
    "def _int64_feature(value):\n",
    "    \"\"\"Returns an int64_list from a bool / enum / int / uint.\"\"\"\n",
    "    return tf.train.Feature(int64_list=tf.train.Int64List(value=[value]))\n",
    "\n",
    "def _tensor_feature(value, kwd, underlying_type):\n",
    "    \"\"\"Returns a tensor feature from a list of values (that were first converted to a tensor)\n",
    "    \n",
    "    # I tried using the following, but tf.train.Feature expects bytes, not a Tensor of bytes (avoid doing this!)\n",
    "    tensor = tf.convert_to_tensor(value)\n",
    "    print(tensor)\n",
    "    serialized = tf.serialize_tensor(tensor)\n",
    "    print(serialized)\n",
    "    print(dir(serialized))\n",
    "    serialized =  tf.compat.bytes_or_text_types(serialized)\n",
    "    return tf.train.Feature(bytes_list=tf.train.BytesList(value=[serialized]))\n",
    "    \"\"\"\n",
    "    return tf.train.Feature(**{\n",
    "        kwd: underlying_type(value=value)\n",
    "    })"
   ]
  },
  {
   "cell_type": "code",
   "execution_count": 19,
   "metadata": {},
   "outputs": [],
   "source": [
    "# Prototype class - enables easier feature definition and better for refactoring\n",
    "\n",
    "class FeatureProto(object):\n",
    "    from collections import namedtuple\n",
    "    \n",
    "    proto = namedtuple('prototype', ['name', 'dtype', 'shape'])\n",
    "    \n",
    "    features = [\n",
    "        proto(name='Elevation', dtype=tf.float32, shape=1),\n",
    "        proto(name='Aspect', dtype=tf.float32, shape=1),\n",
    "        proto(name='Slope', dtype=tf.float32, shape=1),\n",
    "        proto(name='Horizontal_Distance_To_Hydrology', dtype=tf.float32, shape=1),\n",
    "        proto(name='Vertical_Distance_To_Hydrology', dtype=tf.float32, shape=1),\n",
    "        proto(name='Horizontal_Distance_To_Roadways', dtype=tf.float32, shape=1),\n",
    "        proto(name='Hillshade_9am', dtype=tf.float32, shape=1),\n",
    "        proto(name='Hillshade_Noon', dtype=tf.float32, shape=1),\n",
    "        proto(name='Hillshade_3pm', dtype=tf.float32, shape=1),\n",
    "        proto(name='Horizontal_Distance_To_Fire_Points', dtype=tf.float32, shape=1),\n",
    "        proto(name='Wilderness_Area', dtype=tf.float32, shape=4),\n",
    "        proto(name='Soil_Type', dtype=tf.float32, shape=40),\n",
    "        proto(name='Cover_Type', dtype=tf.float32, shape=1),\n",
    "    ]\n",
    "    \n",
    "    \n",
    "    def dataset_creation(self, data):\n",
    "        idx = 0\n",
    "        collection = {}\n",
    "        for prototype in self.features:\n",
    "            feat_name = prototype.name\n",
    "            dtype = prototype.dtype\n",
    "            shape = prototype.shape\n",
    "            \n",
    "            if dtype == tf.float32:\n",
    "                if shape == 1:\n",
    "                    datum = data[idx]\n",
    "                    encoded_feature = _float_feature(datum)\n",
    "                else:\n",
    "                    datum = data[idx: idx+shape]\n",
    "                    encoded_feature = _tensor_feature(datum, 'float_list', tf.train.FloatList)\n",
    "            else:\n",
    "                raise NotImplementedError('dataset creation for non-float32 not supported')\n",
    "            \n",
    "            collection[feat_name] = encoded_feature\n",
    "            idx += shape\n",
    "        return collection\n",
    "    \n",
    "    def dataset_parsing(self):\n",
    "        if hasattr(self, 'parser_proto'):\n",
    "            return self.parser_proto\n",
    "        else:\n",
    "            parser_proto = {}\n",
    "            for prototype in self.features:\n",
    "                feat_name = prototype.name\n",
    "                dtype = prototype.dtype\n",
    "                shape = prototype.shape\n",
    "                parser_proto[feat_name] = tf.FixedLenFeature(() if shape == 1 else (shape), dtype)\n",
    "            self.parser_proto = parser_proto\n",
    "            return self.parser_proto\n",
    "\n",
    "\n",
    "feature_proto = FeatureProto()"
   ]
  },
  {
   "cell_type": "code",
   "execution_count": 20,
   "metadata": {},
   "outputs": [
    {
     "name": "stdout",
     "output_type": "stream",
     "text": [
      "Uncomment above line to load in data from unprocessed_data folder\n"
     ]
    }
   ],
   "source": [
    "def load_data():\n",
    "    loaded = np.loadtxt('unprocessed_data/covtype.data', delimiter=',')  # Avoid tf.contrib since we want to get our hands dirty\n",
    "    print(loaded.shape)\n",
    "    all_ind = np.arange(0, len(loaded))\n",
    "    train_ind = all_ind[: int(len(loaded) * 0.8)]\n",
    "    test_ind = all_ind[int(len(loaded) * 0.8): ]\n",
    "    \n",
    "    return loaded, all_ind, train_ind, test_ind\n",
    "\n",
    "#loaded, all_ind, train_ind, test_ind = load_data()\n",
    "print('Uncomment above line to load in data from unprocessed_data folder')"
   ]
  },
  {
   "cell_type": "code",
   "execution_count": 18,
   "metadata": {},
   "outputs": [
    {
     "data": {
      "application/vnd.jupyter.widget-view+json": {
       "model_id": "94f9d36826274d288f40d1f816261a01",
       "version_major": 2,
       "version_minor": 0
      },
      "text/plain": [
       "HBox(children=(IntProgress(value=0, max=464809), HTML(value='')))"
      ]
     },
     "metadata": {},
     "output_type": "display_data"
    },
    {
     "name": "stdout",
     "output_type": "stream",
     "text": [
      "\n"
     ]
    },
    {
     "data": {
      "application/vnd.jupyter.widget-view+json": {
       "model_id": "d64ca35c4e204024afc8ae149576465a",
       "version_major": 2,
       "version_minor": 0
      },
      "text/plain": [
       "HBox(children=(IntProgress(value=0, max=116203), HTML(value='')))"
      ]
     },
     "metadata": {},
     "output_type": "display_data"
    },
    {
     "name": "stdout",
     "output_type": "stream",
     "text": [
      "\n"
     ]
    }
   ],
   "source": [
    "def generate_samples(feature_proto):\n",
    "    try:\n",
    "        os.mkdir('processed_data')\n",
    "    except:\n",
    "        print('Folder exists')\n",
    "    for record_type in [('train', train_ind), ('test', test_ind)]:\n",
    "\n",
    "        filename = 'processed_data/tf_record_covtype_{}_{}'.format(\n",
    "            record_type[0], datetime.datetime.now().replace(microsecond=0,second=0,minute=0)\n",
    "        )  # Round to the previous hour\n",
    "        with tf.python_io.TFRecordWriter(filename) as writer:\n",
    "            for i in tqdm.tqdm_notebook(record_type[1]):\n",
    "                datum = loaded[i, :]\n",
    "                feature = feature_proto.dataset_creation(datum)\n",
    "                example_proto = tf.train.Example(features=tf.train.Features(feature=feature))\n",
    "                writer.write(example_proto.SerializeToString())\n",
    "\n",
    "        # using your storage system -S3 or some other file hosting service, add the export here\n",
    "#generate_samples(feature_proto)\n",
    "print('Uncomment line above to use feature_proto to generate the tfRecords files')"
   ]
  },
  {
   "cell_type": "markdown",
   "metadata": {},
   "source": [
    "# Provider\n",
    "\n",
    "Cell 1: Initialize the loader\n",
    "\n",
    "- even though there is the train, and test data in the tfRecordDataset, we pretend that they're two different runs of our pre-processor\n",
    "\n",
    "- The proto_wrap function is unnecessary here but for the sake of clarity I left it in. In the next tutorial, where I show you how to use the loaded data, we will remove it\n",
    "\n",
    "Cell 2: Provide\n",
    "\n",
    "- return an iterator that you can go through to iterate your dataset"
   ]
  },
  {
   "cell_type": "code",
   "execution_count": 7,
   "metadata": {},
   "outputs": [],
   "source": [
    "def proto_wrap(feature_proto):\n",
    "    features = feature_proto.dataset_parsing()\n",
    "    def unpack(example_proto):\n",
    "        parsed_features = tf.parse_single_example(example_proto, features)\n",
    "        labels = parsed_features['Cover_Type']\n",
    "        parsed_features.pop('Cover_Type')\n",
    "        # Then, convert the dataset into tensors which tensorflow expects?\n",
    "        parsed_features['Soil_Type'] = tf.convert_to_tensor(parsed_features['Soil_Type'])\n",
    "        parsed_features['Wilderness_Area'] = tf.cast(tf.argmax(parsed_features['Wilderness_Area'], axis=0), dtype=tf.float32)\n",
    "        labels = tf.one_hot(tf.cast(labels, dtype=tf.uint8), 8, on_value=1, off_value=0, axis=-1)\n",
    "\n",
    "        return parsed_features, labels\n",
    "    return unpack\n",
    " \n",
    "\n",
    "\n",
    "def dataset_config(filenames: list, mapper=None, repeat=False, batch_size=32,\n",
    "                  initializable=False, sess=None, feed_dict=None, num_cpus=None):\n",
    "    dataset = tf.data.TFRecordDataset(filenames)\n",
    "    \n",
    "    if mapper is not None:\n",
    "        dataset = dataset.map(mapper, num_parallel_calls=num_cpus)\n",
    "        \n",
    "    if repeat:\n",
    "        dataset = dataset.repeat()\n",
    "        \n",
    "    dataset = dataset.batch(batch_size)\n",
    "    dataset = dataset.prefetch(buffer_size=batch_size)\n",
    "    \n",
    "    if initializable:\n",
    "        \"\"\"\n",
    "        An initializable iterator requires you to run an explicit iterator.initializer operation before using it. \n",
    "        In exchange for this inconvenience, it enables you to parameterize the definition of the dataset, \n",
    "        using one or more tf.placeholder() tensors that can be fed when you initialize the iterator\n",
    "        \"\"\"\n",
    "        # Creates an Iterator for enumerating the elements of this dataset\n",
    "        if sess is None:\n",
    "            raise Exception('Initializable dataset configuration specified but session not supplied')\n",
    "        iterator = dataset.make_initializable_iterator()\n",
    "    else:\n",
    "        \"\"\"\n",
    "        A one-shot iterator is the simplest form of iterator, which only supports iterating once through a dataset, \n",
    "        with no need for explicit initialization. One-shot iterators handle almost all of the cases that the existing \n",
    "        queue-based input pipelines support, but they do not support parameterization\n",
    "        \"\"\"\n",
    "        iterator = dataset.make_one_shot_iterator()\n",
    "        \n",
    "    if initializable:\n",
    "        assert feed_dict is not None, 'Supply feed dict to initializable iterator'\n",
    "        sess.run(iterator.initializer, feed_dict=feed_dict)\n",
    "    \n",
    "    next_element = iterator.get_next()\n",
    "    return next_element"
   ]
  },
  {
   "cell_type": "code",
   "execution_count": 8,
   "metadata": {},
   "outputs": [
    {
     "name": "stdout",
     "output_type": "stream",
     "text": [
      "['processed_data/tf_record_covtype_test_2018-12-27 21:00:00', 'processed_data/tf_record_covtype_train_2018-12-27 21:00:00']\n"
     ]
    }
   ],
   "source": [
    "filename_list = []\n",
    "for dirname, dirnames, filenames in os.walk('processed_data/'):\n",
    "    # print path to all subdirectories first.\n",
    "    for f in filenames:\n",
    "        filename_list.append('{}{}'.format(dirname, f))\n",
    "print(filename_list)\n",
    "dataset = tf.data.TFRecordDataset(filename_list)\n",
    "\n",
    "num_cpus = os.cpu_count()\n",
    "contextual_unpacker = proto_wrap(feature_proto)\n",
    "training_dataset_next = dataset_config(filename_list, mapper=contextual_unpacker, num_cpus=num_cpus)"
   ]
  },
  {
   "cell_type": "code",
   "execution_count": 9,
   "metadata": {},
   "outputs": [],
   "source": [
    "# Lazy execution\n",
    "\n",
    "# init = tf.global_variables_initializer()\n",
    "# with tf.Session() as sess:\n",
    "#     sess.run(init)\n",
    "#     features, label = sess.run(training_dataset_next)\n",
    "    \n",
    "    \n",
    "# Eager execution\n",
    "features, label = training_dataset_next"
   ]
  },
  {
   "cell_type": "markdown",
   "metadata": {},
   "source": [
    "# Done! \n",
    "\n",
    "And with that, we're done! We've \n",
    "\n",
    "1) taken a non-trivial dataset, \n",
    "2) converted it into a `tfRecord`\n",
    "3) shown how to unload it and read from it"
   ]
  }
 ],
 "metadata": {
  "kernelspec": {
   "display_name": "Python 3",
   "language": "python",
   "name": "python3"
  },
  "language_info": {
   "codemirror_mode": {
    "name": "ipython",
    "version": 3
   },
   "file_extension": ".py",
   "mimetype": "text/x-python",
   "name": "python",
   "nbconvert_exporter": "python",
   "pygments_lexer": "ipython3",
   "version": "3.6.7"
  }
 },
 "nbformat": 4,
 "nbformat_minor": 2
}
