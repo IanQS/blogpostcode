{
 "cells": [
  {
   "cell_type": "code",
   "execution_count": 1,
   "metadata": {},
   "outputs": [],
   "source": [
    "%load_ext autoreload\n",
    "%autoreload 2"
   ]
  },
  {
   "cell_type": "code",
   "execution_count": 3,
   "metadata": {},
   "outputs": [],
   "source": [
    "import tensorflow as tf\n",
    "import os"
   ]
  },
  {
   "cell_type": "markdown",
   "metadata": {},
   "source": [
    "# 1) Inference Pipeline\n",
    "\n",
    "- consumes `TFRecords`\n",
    "\n",
    "- no pre-processing any longer\n",
    "\n",
    "- optimize for speed of loading + unloading\n",
    "\n",
    "- loads from `processed_data` folder in this tutorial"
   ]
  },
  {
   "cell_type": "code",
   "execution_count": 11,
   "metadata": {},
   "outputs": [],
   "source": [
    "repeat = False  # Whether to cycle through the data endlessly\""
   ]
  },
  {
   "cell_type": "code",
   "execution_count": null,
   "metadata": {},
   "outputs": [],
   "source": [
    "processed_src = os.listdir('exploration/processed_data/')\n",
    "\n",
    "if repeat:\n",
    "    dataset = tf.data.TFRecordDataset(processed_src).repeat()\n",
    "else:\n",
    "    dataset = tf.data.TFRecordDataset(processed_src)"
   ]
  },
  {
   "cell_type": "markdown",
   "metadata": {},
   "source": [
    "# 2) Training Pipeline\n",
    "\n",
    "## 2.1) Producer:\n",
    "\n",
    "- takes `numpy` arrays or `CSVs`\n",
    "\n",
    "- $\\lambda$ `np.ndarray` -> `tf.TfRecords`\n",
    "\n",
    "- loads from `raw_data` folder in this tutorial and writes to `processed_data` folder \n",
    "\n",
    "## 2.2) Provider:\n",
    "\n",
    "- loads from `processed_data` folder \n",
    "\n",
    "- loads `tf.TfRecords` and sends it directly to tensorflow. Avoids `feed_dict` which is [reportedly slow](https://www.tensorflow.org/guide/performance/overview#input_pipeline)"
   ]
  },
  {
   "cell_type": "code",
   "execution_count": 4,
   "metadata": {},
   "outputs": [],
   "source": []
  },
  {
   "cell_type": "code",
   "execution_count": null,
   "metadata": {},
   "outputs": [],
   "source": []
  }
 ],
 "metadata": {
  "kernelspec": {
   "display_name": "Python 3",
   "language": "python",
   "name": "python3"
  },
  "language_info": {
   "codemirror_mode": {
    "name": "ipython",
    "version": 3
   },
   "file_extension": ".py",
   "mimetype": "text/x-python",
   "name": "python",
   "nbconvert_exporter": "python",
   "pygments_lexer": "ipython3",
   "version": "3.6.7"
  }
 },
 "nbformat": 4,
 "nbformat_minor": 2
}
